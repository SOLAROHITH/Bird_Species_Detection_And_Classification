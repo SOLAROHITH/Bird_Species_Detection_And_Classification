{
 "cells": [
  {
   "cell_type": "code",
   "execution_count": 1,
   "metadata": {},
   "outputs": [
    {
     "name": "stderr",
     "output_type": "stream",
     "text": [
      "c:\\ProgramData\\Anaconda3\\lib\\site-packages\\scipy\\__init__.py:155: UserWarning: A NumPy version >=1.18.5 and <1.25.0 is required for this version of SciPy (detected version 1.26.4\n",
      "  warnings.warn(f\"A NumPy version >={np_minversion} and <{np_maxversion}\"\n"
     ]
    }
   ],
   "source": [
    "import tensorflow as tf\n",
    "from tensorflow.keras.preprocessing.image import ImageDataGenerator\n",
    "from tensorflow.keras.callbacks import EarlyStopping, ModelCheckpoint\n"
   ]
  },
  {
   "cell_type": "code",
   "execution_count": 2,
   "metadata": {},
   "outputs": [],
   "source": [
    "\n",
    "# Directories\n",
    "train_dir = \"DataSet_V1_8020/train\"\n",
    "val_dir = \"DataSet_V1_8020/val\"\n",
    "test_dir = \"DataSet_V1_8020/test\"\n"
   ]
  },
  {
   "cell_type": "code",
   "execution_count": 3,
   "metadata": {},
   "outputs": [
    {
     "name": "stdout",
     "output_type": "stream",
     "text": [
      "Found 4434 images belonging to 14 classes.\n",
      "Found 1115 images belonging to 14 classes.\n",
      "Found 1393 images belonging to 14 classes.\n"
     ]
    }
   ],
   "source": [
    "\n",
    "# Data augmentation and rescaling for training\n",
    "train_datagen = ImageDataGenerator(\n",
    "    rescale=1./255,\n",
    "    rotation_range=20,\n",
    "    width_shift_range=0.2,\n",
    "    height_shift_range=0.2,\n",
    "    shear_range=0.2,\n",
    "    zoom_range=0.2,\n",
    "    horizontal_flip=True,\n",
    "    fill_mode='nearest'\n",
    ")\n",
    "\n",
    "# Rescaling for validation and test\n",
    "val_datagen = ImageDataGenerator(rescale=1./255)\n",
    "test_datagen = ImageDataGenerator(rescale=1./255)\n",
    "\n",
    "# Train data\n",
    "train_data = train_datagen.flow_from_directory(\n",
    "    directory=train_dir,\n",
    "    batch_size=32,\n",
    "    target_size=(299, 299),\n",
    "    class_mode=\"categorical\",\n",
    "    shuffle=True  # Ensure shuffling\n",
    ")\n",
    "\n",
    "# Validation data\n",
    "val_data = val_datagen.flow_from_directory(\n",
    "    directory=val_dir,\n",
    "    batch_size=32,\n",
    "    target_size=(299, 299),\n",
    "    class_mode=\"categorical\"\n",
    ")\n",
    "\n",
    "# Test data\n",
    "test_data = test_datagen.flow_from_directory(\n",
    "    directory=test_dir,\n",
    "    batch_size=32,\n",
    "    target_size=(299, 299),\n",
    "    class_mode=\"categorical\",\n",
    "    shuffle=False  # No need to shuffle test data\n",
    ")\n"
   ]
  },
  {
   "cell_type": "code",
   "execution_count": 5,
   "metadata": {},
   "outputs": [
    {
     "name": "stdout",
     "output_type": "stream",
     "text": [
      "Number of classes: 14\n"
     ]
    },
    {
     "name": "stderr",
     "output_type": "stream",
     "text": [
      "C:\\Users\\Admin\\AppData\\Roaming\\Python\\Python39\\site-packages\\keras\\src\\trainers\\data_adapters\\py_dataset_adapter.py:121: UserWarning: Your `PyDataset` class should call `super().__init__(**kwargs)` in its constructor. `**kwargs` can include `workers`, `use_multiprocessing`, `max_queue_size`. Do not pass these arguments to `fit()`, as they will be ignored.\n",
      "  self._warn_if_super_not_called()\n"
     ]
    },
    {
     "name": "stdout",
     "output_type": "stream",
     "text": [
      "Epoch 1/50\n",
      "\u001b[1m138/138\u001b[0m \u001b[32m━━━━━━━━━━━━━━━━━━━━\u001b[0m\u001b[37m\u001b[0m \u001b[1m0s\u001b[0m 13s/step - accuracy: 0.1984 - loss: 2.5153 "
     ]
    },
    {
     "name": "stderr",
     "output_type": "stream",
     "text": [
      "C:\\Users\\Admin\\AppData\\Roaming\\Python\\Python39\\site-packages\\keras\\src\\trainers\\data_adapters\\py_dataset_adapter.py:121: UserWarning: Your `PyDataset` class should call `super().__init__(**kwargs)` in its constructor. `**kwargs` can include `workers`, `use_multiprocessing`, `max_queue_size`. Do not pass these arguments to `fit()`, as they will be ignored.\n",
      "  self._warn_if_super_not_called()\n"
     ]
    },
    {
     "name": "stdout",
     "output_type": "stream",
     "text": [
      "\u001b[1m138/138\u001b[0m \u001b[32m━━━━━━━━━━━━━━━━━━━━\u001b[0m\u001b[37m\u001b[0m \u001b[1m2115s\u001b[0m 15s/step - accuracy: 0.1992 - loss: 2.5135 - val_accuracy: 0.5184 - val_loss: 1.8283\n",
      "Epoch 2/50\n",
      "\u001b[1m  1/138\u001b[0m \u001b[37m━━━━━━━━━━━━━━━━━━━━\u001b[0m \u001b[1m4:56\u001b[0m 2s/step - accuracy: 0.5000 - loss: 1.8910"
     ]
    },
    {
     "name": "stderr",
     "output_type": "stream",
     "text": [
      "c:\\ProgramData\\Anaconda3\\lib\\contextlib.py:137: UserWarning: Your input ran out of data; interrupting training. Make sure that your dataset or generator can generate at least `steps_per_epoch * epochs` batches. You may need to use the `.repeat()` function when building your dataset.\n",
      "  self.gen.throw(typ, value, traceback)\n"
     ]
    },
    {
     "name": "stdout",
     "output_type": "stream",
     "text": [
      "\u001b[1m138/138\u001b[0m \u001b[32m━━━━━━━━━━━━━━━━━━━━\u001b[0m\u001b[37m\u001b[0m \u001b[1m6s\u001b[0m 26ms/step - accuracy: 0.5000 - loss: 1.8910 - val_accuracy: 0.4444 - val_loss: 2.0198\n",
      "Epoch 3/50\n",
      "\u001b[1m138/138\u001b[0m \u001b[32m━━━━━━━━━━━━━━━━━━━━\u001b[0m\u001b[37m\u001b[0m \u001b[1m1224s\u001b[0m 9s/step - accuracy: 0.5861 - loss: 1.7250 - val_accuracy: 0.7206 - val_loss: 1.3595\n",
      "Epoch 4/50\n",
      "\u001b[1m138/138\u001b[0m \u001b[32m━━━━━━━━━━━━━━━━━━━━\u001b[0m\u001b[37m\u001b[0m \u001b[1m8s\u001b[0m 42ms/step - accuracy: 0.6250 - loss: 1.5111 - val_accuracy: 0.8148 - val_loss: 1.2833\n",
      "Epoch 5/50\n",
      "\u001b[1m138/138\u001b[0m \u001b[32m━━━━━━━━━━━━━━━━━━━━\u001b[0m\u001b[37m\u001b[0m \u001b[1m1212s\u001b[0m 9s/step - accuracy: 0.7230 - loss: 1.2904 - val_accuracy: 0.7858 - val_loss: 1.0682\n",
      "Epoch 6/50\n",
      "\u001b[1m138/138\u001b[0m \u001b[32m━━━━━━━━━━━━━━━━━━━━\u001b[0m\u001b[37m\u001b[0m \u001b[1m5s\u001b[0m 22ms/step - accuracy: 0.7812 - loss: 1.0742 - val_accuracy: 0.7778 - val_loss: 1.2638\n",
      "Epoch 7/50\n",
      "\u001b[1m138/138\u001b[0m \u001b[32m━━━━━━━━━━━━━━━━━━━━\u001b[0m\u001b[37m\u001b[0m \u001b[1m1223s\u001b[0m 9s/step - accuracy: 0.7699 - loss: 1.0614 - val_accuracy: 0.8153 - val_loss: 0.8995\n",
      "Epoch 8/50\n",
      "\u001b[1m138/138\u001b[0m \u001b[32m━━━━━━━━━━━━━━━━━━━━\u001b[0m\u001b[37m\u001b[0m \u001b[1m8s\u001b[0m 44ms/step - accuracy: 0.6875 - loss: 1.0582 - val_accuracy: 0.8889 - val_loss: 0.8307\n",
      "Epoch 9/50\n",
      "\u001b[1m138/138\u001b[0m \u001b[32m━━━━━━━━━━━━━━━━━━━━\u001b[0m\u001b[37m\u001b[0m \u001b[1m1245s\u001b[0m 9s/step - accuracy: 0.8014 - loss: 0.9278 - val_accuracy: 0.8447 - val_loss: 0.7718\n",
      "Epoch 10/50\n",
      "\u001b[1m138/138\u001b[0m \u001b[32m━━━━━━━━━━━━━━━━━━━━\u001b[0m\u001b[37m\u001b[0m \u001b[1m7s\u001b[0m 35ms/step - accuracy: 0.9375 - loss: 0.7408 - val_accuracy: 0.6667 - val_loss: 0.9259\n",
      "Epoch 11/50\n",
      "\u001b[1m138/138\u001b[0m \u001b[32m━━━━━━━━━━━━━━━━━━━━\u001b[0m\u001b[37m\u001b[0m \u001b[1m1231s\u001b[0m 9s/step - accuracy: 0.8198 - loss: 0.7948 - val_accuracy: 0.8474 - val_loss: 0.6903\n",
      "Epoch 12/50\n",
      "\u001b[1m138/138\u001b[0m \u001b[32m━━━━━━━━━━━━━━━━━━━━\u001b[0m\u001b[37m\u001b[0m \u001b[1m7s\u001b[0m 33ms/step - accuracy: 0.9375 - loss: 0.6776 - val_accuracy: 0.9259 - val_loss: 0.5695\n",
      "Epoch 13/50\n",
      "\u001b[1m138/138\u001b[0m \u001b[32m━━━━━━━━━━━━━━━━━━━━\u001b[0m\u001b[37m\u001b[0m \u001b[1m1245s\u001b[0m 9s/step - accuracy: 0.8443 - loss: 0.7164 - val_accuracy: 0.8658 - val_loss: 0.6246\n",
      "Epoch 14/50\n",
      "\u001b[1m138/138\u001b[0m \u001b[32m━━━━━━━━━━━━━━━━━━━━\u001b[0m\u001b[37m\u001b[0m \u001b[1m10s\u001b[0m 57ms/step - accuracy: 0.8750 - loss: 0.7768 - val_accuracy: 0.8889 - val_loss: 0.4914\n",
      "Epoch 15/50\n",
      "\u001b[1m138/138\u001b[0m \u001b[32m━━━━━━━━━━━━━━━━━━━━\u001b[0m\u001b[37m\u001b[0m \u001b[1m1261s\u001b[0m 9s/step - accuracy: 0.8514 - loss: 0.6501 - val_accuracy: 0.8713 - val_loss: 0.5665\n",
      "Epoch 16/50\n",
      "\u001b[1m138/138\u001b[0m \u001b[32m━━━━━━━━━━━━━━━━━━━━\u001b[0m\u001b[37m\u001b[0m \u001b[1m5s\u001b[0m 20ms/step - accuracy: 0.8125 - loss: 0.7151 - val_accuracy: 0.8519 - val_loss: 0.6838\n",
      "Epoch 17/50\n",
      "\u001b[1m138/138\u001b[0m \u001b[32m━━━━━━━━━━━━━━━━━━━━\u001b[0m\u001b[37m\u001b[0m \u001b[1m1243s\u001b[0m 9s/step - accuracy: 0.8618 - loss: 0.5939 - val_accuracy: 0.8842 - val_loss: 0.5189\n",
      "Epoch 18/50\n",
      "\u001b[1m138/138\u001b[0m \u001b[32m━━━━━━━━━━━━━━━━━━━━\u001b[0m\u001b[37m\u001b[0m \u001b[1m7s\u001b[0m 32ms/step - accuracy: 0.9062 - loss: 0.6480 - val_accuracy: 0.7037 - val_loss: 0.8399\n",
      "Epoch 19/50\n",
      "\u001b[1m138/138\u001b[0m \u001b[32m━━━━━━━━━━━━━━━━━━━━\u001b[0m\u001b[37m\u001b[0m \u001b[1m1253s\u001b[0m 9s/step - accuracy: 0.8801 - loss: 0.5414 - val_accuracy: 0.8805 - val_loss: 0.4936\n"
     ]
    }
   ],
   "source": [
    "# Steps per epoch\n",
    "steps_per_epoch = train_data.samples // train_data.batch_size\n",
    "validation_steps = val_data.samples // val_data.batch_size\n",
    "\n",
    "# Number of classes\n",
    "num_classes = train_data.num_classes\n",
    "print(f\"Number of classes: {num_classes}\")\n",
    "\n",
    "# 1. Create a base model with InceptionV3 (pre-trained)\n",
    "base_model = tf.keras.applications.InceptionV3(include_top=False, input_shape=(299, 299, 3))\n",
    "base_model.trainable = False  # Freeze base model\n",
    "\n",
    "# 2. Build custom model\n",
    "inputs = tf.keras.layers.Input(shape=(299, 299, 3), name=\"input-layer\")\n",
    "x = base_model(inputs)\n",
    "x = tf.keras.layers.GlobalAveragePooling2D(name=\"global_average_pooling_layer\")(x)\n",
    "outputs = tf.keras.layers.Dense(num_classes, activation=\"softmax\", name=\"output-layer\")(x)\n",
    "model = tf.keras.Model(inputs, outputs)\n",
    "\n",
    "# 3. Compile model\n",
    "model.compile(\n",
    "    loss=\"categorical_crossentropy\",\n",
    "    optimizer=tf.keras.optimizers.Adam(learning_rate=1e-4),  # Smaller learning rate\n",
    "    metrics=[\"accuracy\"]\n",
    ")\n",
    "\n",
    "# 4. Callbacks\n",
    "# Early stopping to prevent overfitting\n",
    "early_stopping = EarlyStopping(monitor='val_loss', patience=5, restore_best_weights=True)\n",
    "\n",
    "# Model checkpoint to save the best model based on validation loss\n",
    "checkpoint = ModelCheckpoint(\"BirdSpecies_best_model.keras\", save_best_only=True, monitor='val_loss', mode='min')\n",
    "\n",
    "# 5. Train the model\n",
    "history = model.fit(\n",
    "    train_data,\n",
    "    epochs=50,  # Increase number of epochs\n",
    "    steps_per_epoch=steps_per_epoch,\n",
    "    validation_data=val_data,\n",
    "    validation_steps=validation_steps,\n",
    "    callbacks=[early_stopping, checkpoint]\n",
    ")"
   ]
  },
  {
   "cell_type": "code",
   "execution_count": 6,
   "metadata": {},
   "outputs": [
    {
     "name": "stdout",
     "output_type": "stream",
     "text": [
      "\u001b[1m44/44\u001b[0m \u001b[32m━━━━━━━━━━━━━━━━━━━━\u001b[0m\u001b[37m\u001b[0m \u001b[1m318s\u001b[0m 7s/step - accuracy: 0.8463 - loss: 0.5970\n",
      "Test accuracy: 0.87\n"
     ]
    }
   ],
   "source": [
    "test_loss, test_accuracy = model.evaluate(test_data)\n",
    "print(f\"Test accuracy: {test_accuracy:.2f}\")\n"
   ]
  },
  {
   "cell_type": "code",
   "execution_count": 7,
   "metadata": {},
   "outputs": [
    {
     "name": "stderr",
     "output_type": "stream",
     "text": [
      "WARNING:absl:You are saving your model as an HDF5 file via `model.save()` or `keras.saving.save_model(model)`. This file format is considered legacy. We recommend using instead the native Keras format, e.g. `model.save('my_model.keras')` or `keras.saving.save_model(model, 'my_model.keras')`. \n"
     ]
    }
   ],
   "source": [
    "\n",
    "# 8. Save the final model (best version after fine-tuning)\n",
    "model.save(\"TEST_Model_V1_P1.h5\")\n"
   ]
  },
  {
   "cell_type": "code",
   "execution_count": 8,
   "metadata": {},
   "outputs": [
    {
     "name": "stdout",
     "output_type": "stream",
     "text": [
      "Epoch 1/20\n",
      "\u001b[1m138/138\u001b[0m \u001b[32m━━━━━━━━━━━━━━━━━━━━\u001b[0m\u001b[37m\u001b[0m \u001b[1m1579s\u001b[0m 11s/step - accuracy: 0.8266 - loss: 0.8699 - val_accuracy: 0.9265 - val_loss: 0.2968\n",
      "Epoch 2/20\n",
      "\u001b[1m138/138\u001b[0m \u001b[32m━━━━━━━━━━━━━━━━━━━━\u001b[0m\u001b[37m\u001b[0m \u001b[1m7s\u001b[0m 15ms/step - accuracy: 0.9062 - loss: 0.3560 - val_accuracy: 0.9259 - val_loss: 0.3389\n",
      "Epoch 3/20\n",
      "\u001b[1m138/138\u001b[0m \u001b[32m━━━━━━━━━━━━━━━━━━━━\u001b[0m\u001b[37m\u001b[0m \u001b[1m1571s\u001b[0m 11s/step - accuracy: 0.9262 - loss: 0.3473 - val_accuracy: 0.9605 - val_loss: 0.1663\n",
      "Epoch 4/20\n",
      "\u001b[1m138/138\u001b[0m \u001b[32m━━━━━━━━━━━━━━━━━━━━\u001b[0m\u001b[37m\u001b[0m \u001b[1m20s\u001b[0m 78ms/step - accuracy: 0.9688 - loss: 0.2844 - val_accuracy: 0.9630 - val_loss: 0.1484\n",
      "Epoch 5/20\n",
      "\u001b[1m138/138\u001b[0m \u001b[32m━━━━━━━━━━━━━━━━━━━━\u001b[0m\u001b[37m\u001b[0m \u001b[1m1781s\u001b[0m 13s/step - accuracy: 0.9527 - loss: 0.2157 - val_accuracy: 0.9752 - val_loss: 0.1061\n",
      "Epoch 6/20\n",
      "\u001b[1m138/138\u001b[0m \u001b[32m━━━━━━━━━━━━━━━━━━━━\u001b[0m\u001b[37m\u001b[0m \u001b[1m11s\u001b[0m 53ms/step - accuracy: 1.0000 - loss: 0.0704 - val_accuracy: 1.0000 - val_loss: 0.0895\n",
      "Epoch 7/20\n",
      "\u001b[1m138/138\u001b[0m \u001b[32m━━━━━━━━━━━━━━━━━━━━\u001b[0m\u001b[37m\u001b[0m \u001b[1m1286s\u001b[0m 9s/step - accuracy: 0.9705 - loss: 0.1472 - val_accuracy: 0.9825 - val_loss: 0.0761\n",
      "Epoch 8/20\n",
      "\u001b[1m138/138\u001b[0m \u001b[32m━━━━━━━━━━━━━━━━━━━━\u001b[0m\u001b[37m\u001b[0m \u001b[1m6s\u001b[0m 11ms/step - accuracy: 0.9688 - loss: 0.1953 - val_accuracy: 0.9630 - val_loss: 0.1176\n",
      "Epoch 9/20\n",
      "\u001b[1m138/138\u001b[0m \u001b[32m━━━━━━━━━━━━━━━━━━━━\u001b[0m\u001b[37m\u001b[0m \u001b[1m1325s\u001b[0m 10s/step - accuracy: 0.9819 - loss: 0.0976 - val_accuracy: 0.9844 - val_loss: 0.0567\n",
      "Epoch 10/20\n",
      "\u001b[1m138/138\u001b[0m \u001b[32m━━━━━━━━━━━━━━━━━━━━\u001b[0m\u001b[37m\u001b[0m \u001b[1m10s\u001b[0m 44ms/step - accuracy: 0.9688 - loss: 0.1519 - val_accuracy: 1.0000 - val_loss: 0.0374\n",
      "Epoch 11/20\n",
      "\u001b[1m138/138\u001b[0m \u001b[32m━━━━━━━━━━━━━━━━━━━━\u001b[0m\u001b[37m\u001b[0m \u001b[1m1270s\u001b[0m 9s/step - accuracy: 0.9888 - loss: 0.0755 - val_accuracy: 0.9899 - val_loss: 0.0435\n",
      "Epoch 12/20\n",
      "\u001b[1m138/138\u001b[0m \u001b[32m━━━━━━━━━━━━━━━━━━━━\u001b[0m\u001b[37m\u001b[0m \u001b[1m11s\u001b[0m 47ms/step - accuracy: 1.0000 - loss: 0.0544 - val_accuracy: 1.0000 - val_loss: 0.0133\n",
      "Epoch 13/20\n",
      "\u001b[1m138/138\u001b[0m \u001b[32m━━━━━━━━━━━━━━━━━━━━\u001b[0m\u001b[37m\u001b[0m \u001b[1m1233s\u001b[0m 9s/step - accuracy: 0.9889 - loss: 0.0583 - val_accuracy: 0.9908 - val_loss: 0.0362\n",
      "Epoch 14/20\n",
      "\u001b[1m138/138\u001b[0m \u001b[32m━━━━━━━━━━━━━━━━━━━━\u001b[0m\u001b[37m\u001b[0m \u001b[1m9s\u001b[0m 33ms/step - accuracy: 0.9688 - loss: 0.1055 - val_accuracy: 1.0000 - val_loss: 0.0155\n",
      "Epoch 15/20\n",
      "\u001b[1m138/138\u001b[0m \u001b[32m━━━━━━━━━━━━━━━━━━━━\u001b[0m\u001b[37m\u001b[0m \u001b[1m1351s\u001b[0m 10s/step - accuracy: 0.9878 - loss: 0.0587 - val_accuracy: 0.9908 - val_loss: 0.0302\n",
      "Epoch 16/20\n",
      "\u001b[1m138/138\u001b[0m \u001b[32m━━━━━━━━━━━━━━━━━━━━\u001b[0m\u001b[37m\u001b[0m \u001b[1m11s\u001b[0m 45ms/step - accuracy: 0.9688 - loss: 0.0843 - val_accuracy: 1.0000 - val_loss: 0.0063\n",
      "Epoch 17/20\n",
      "\u001b[1m138/138\u001b[0m \u001b[32m━━━━━━━━━━━━━━━━━━━━\u001b[0m\u001b[37m\u001b[0m \u001b[1m1271s\u001b[0m 9s/step - accuracy: 0.9942 - loss: 0.0338 - val_accuracy: 0.9926 - val_loss: 0.0259\n",
      "Epoch 18/20\n",
      "\u001b[1m138/138\u001b[0m \u001b[32m━━━━━━━━━━━━━━━━━━━━\u001b[0m\u001b[37m\u001b[0m \u001b[1m12s\u001b[0m 57ms/step - accuracy: 1.0000 - loss: 0.0214 - val_accuracy: 1.0000 - val_loss: 0.0049\n",
      "Epoch 19/20\n",
      "\u001b[1m138/138\u001b[0m \u001b[32m━━━━━━━━━━━━━━━━━━━━\u001b[0m\u001b[37m\u001b[0m \u001b[1m1339s\u001b[0m 10s/step - accuracy: 0.9931 - loss: 0.0341 - val_accuracy: 0.9917 - val_loss: 0.0236\n",
      "Epoch 20/20\n",
      "\u001b[1m138/138\u001b[0m \u001b[32m━━━━━━━━━━━━━━━━━━━━\u001b[0m\u001b[37m\u001b[0m \u001b[1m7s\u001b[0m 18ms/step - accuracy: 1.0000 - loss: 0.0107 - val_accuracy: 1.0000 - val_loss: 0.0296\n"
     ]
    }
   ],
   "source": [
    "\n",
    "# 6. Fine-tuning the InceptionV3 model after the initial training\n",
    "# Unfreeze the base model (only unfreeze the last few layers)\n",
    "base_model.trainable = True\n",
    "fine_tune_at = 100  # Fine-tune layers after the 100th layer\n",
    "for layer in base_model.layers[:fine_tune_at]:\n",
    "    layer.trainable = False  # Freeze the first 'fine_tune_at' layers\n",
    "\n",
    "# Re-compile model with a smaller learning rate\n",
    "model.compile(\n",
    "    loss=\"categorical_crossentropy\",\n",
    "    optimizer=tf.keras.optimizers.Adam(learning_rate=1e-5),  # Smaller learning rate for fine-tuning\n",
    "    metrics=[\"accuracy\"]\n",
    ")\n",
    "\n",
    "# Continue training the model with fine-tuning\n",
    "history_fine = model.fit(\n",
    "    train_data,\n",
    "    epochs=20,  # Additional epochs for fine-tuning\n",
    "    steps_per_epoch=steps_per_epoch,\n",
    "    validation_data=val_data,\n",
    "    validation_steps=validation_steps,\n",
    "    callbacks=[early_stopping, checkpoint]\n",
    ")\n"
   ]
  },
  {
   "cell_type": "code",
   "execution_count": 9,
   "metadata": {},
   "outputs": [
    {
     "name": "stdout",
     "output_type": "stream",
     "text": [
      "\u001b[1m44/44\u001b[0m \u001b[32m━━━━━━━━━━━━━━━━━━━━\u001b[0m\u001b[37m\u001b[0m \u001b[1m284s\u001b[0m 6s/step - accuracy: 0.9913 - loss: 0.0292\n",
      "Test accuracy: 0.99\n"
     ]
    }
   ],
   "source": [
    "\n",
    "# 7. Evaluate on test data\n",
    "test_loss, test_accuracy = model.evaluate(test_data)\n",
    "print(f\"Test accuracy: {test_accuracy:.2f}\")\n"
   ]
  },
  {
   "cell_type": "code",
   "execution_count": 10,
   "metadata": {},
   "outputs": [
    {
     "name": "stderr",
     "output_type": "stream",
     "text": [
      "WARNING:absl:You are saving your model as an HDF5 file via `model.save()` or `keras.saving.save_model(model)`. This file format is considered legacy. We recommend using instead the native Keras format, e.g. `model.save('my_model.keras')` or `keras.saving.save_model(model, 'my_model.keras')`. \n"
     ]
    }
   ],
   "source": [
    "\n",
    "# 8. Save the final model (best version after fine-tuning)\n",
    "model.save(\"TEST_Model_V1_P2.h5\")\n"
   ]
  }
 ],
 "metadata": {
  "kernelspec": {
   "display_name": "base",
   "language": "python",
   "name": "python3"
  },
  "language_info": {
   "codemirror_mode": {
    "name": "ipython",
    "version": 3
   },
   "file_extension": ".py",
   "mimetype": "text/x-python",
   "name": "python",
   "nbconvert_exporter": "python",
   "pygments_lexer": "ipython3",
   "version": "3.9.13"
  }
 },
 "nbformat": 4,
 "nbformat_minor": 2
}
