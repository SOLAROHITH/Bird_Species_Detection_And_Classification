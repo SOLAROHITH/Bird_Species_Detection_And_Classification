{
 "cells": [
  {
   "cell_type": "code",
   "execution_count": 1,
   "metadata": {},
   "outputs": [
    {
     "name": "stderr",
     "output_type": "stream",
     "text": [
      "WARNING:absl:Compiled the loaded model, but the compiled metrics have yet to be built. `model.compile_metrics` will be empty until you train or evaluate the model.\n"
     ]
    },
    {
     "name": "stdout",
     "output_type": "stream",
     "text": [
      "\u001b[1m1/1\u001b[0m \u001b[32m━━━━━━━━━━━━━━━━━━━━\u001b[0m\u001b[37m\u001b[0m \u001b[1m9s\u001b[0m 9s/step\n",
      "Predicted class index: 6\n",
      "Predicted class name: Large-billed Crow\n"
     ]
    }
   ],
   "source": [
    "import tensorflow as tf\n",
    "import numpy as np\n",
    "from tensorflow.keras.preprocessing import image\n",
    "import os\n",
    "\n",
    "# Load the saved model\n",
    "model = tf.keras.models.load_model(\"Model_V4_9010.h5\")\n",
    "\n",
    "# Define the directory where your classes (folder names) are located\n",
    "# class_names = os.listdir(train_dir)  # Get class names from train_dir\n",
    "class_names = ['Ashy crowned sparrow lark', 'Asian Openbill', 'Black-headed ibis', 'Crow', 'Eurasian Coot', 'Indian Roller', 'Large-billed Crow', 'Little Cormorant', 'Paddyfield pipit', 'Painted Stork', 'Red-wattled lapwing', 'Spot-billed Pelician', 'White-breasted Waterhen', 'Yellow wattled lapwing']\n",
    "# Function to preprocess the input image\n",
    "def preprocess_image(img_path):\n",
    "    img = image.load_img(img_path, target_size=(224, 224))  # Load the image\n",
    "    img_array = image.img_to_array(img)  # Convert to array\n",
    "    img_array = np.expand_dims(img_array, axis=0)  # Expand dimensions to match model input\n",
    "    # img_array /= 255.0  # Rescale the image (assuming the model was trained with rescaled images)\n",
    "    return img_array\n",
    "\n",
    "# Test with an input image\n",
    "input_image_path = \"E:\\CAPSTONE\\Bird_Species_Classification\\Images for Testing the model\\WhatsApp Image 2024-11-28 at 02.17.59_783cb0ee.jpg\"  # Replace with your image path\n",
    "img_array = preprocess_image(input_image_path)\n",
    "\n",
    "# Make predictions\n",
    "predictions = model.predict(img_array)\n",
    "\n",
    "# Get the predicted class\n",
    "predicted_class_index = np.argmax(predictions, axis=1)\n",
    "predicted_class_name = class_names[predicted_class_index[0]]\n",
    "\n",
    "# Print the results\n",
    "print(f\"Predicted class index: {predicted_class_index[0]}\")\n",
    "print(f\"Predicted class name: {predicted_class_name}\")\n"
   ]
  }
 ],
 "metadata": {
  "kernelspec": {
   "display_name": "base",
   "language": "python",
   "name": "python3"
  },
  "language_info": {
   "codemirror_mode": {
    "name": "ipython",
    "version": 3
   },
   "file_extension": ".py",
   "mimetype": "text/x-python",
   "name": "python",
   "nbconvert_exporter": "python",
   "pygments_lexer": "ipython3",
   "version": "3.9.13"
  }
 },
 "nbformat": 4,
 "nbformat_minor": 2
}
